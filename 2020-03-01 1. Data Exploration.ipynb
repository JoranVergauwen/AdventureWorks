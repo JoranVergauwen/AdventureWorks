{
 "cells": [
  {
   "cell_type": "code",
   "execution_count": 21,
   "metadata": {},
   "outputs": [],
   "source": [
    "import numpy as np \n",
    "import pandas as pd \n",
    "import os \n",
    "\n",
    "import matplotlib.pyplot as plt"
   ]
  },
  {
   "cell_type": "markdown",
   "metadata": {},
   "source": [
    "# Import the biggest files to see what they look like "
   ]
  },
  {
   "cell_type": "code",
   "execution_count": 49,
   "metadata": {},
   "outputs": [],
   "source": [
    "person = pd.read_csv(\"Data/Person_Person.csv\", sep = \";\")\n",
    "SO_detail = pd.read_csv(\"Data/Sales_SalesOrderDetail.csv\", sep = \";\")\n",
    "SO_header = pd.read_csv(\"Data/Sales_SalesOrderHeader.csv\", sep = \";\")\n",
    "SO_header_SalesReason = pd.read_csv(\"Data/Sales_SalesOrderHeaderSalesReason.csv\", sep = \";\")"
   ]
  },
  {
   "cell_type": "markdown",
   "metadata": {},
   "source": [
    "### Person"
   ]
  },
  {
   "cell_type": "code",
   "execution_count": 10,
   "metadata": {},
   "outputs": [
    {
     "data": {
      "text/html": [
       "<div>\n",
       "<style scoped>\n",
       "    .dataframe tbody tr th:only-of-type {\n",
       "        vertical-align: middle;\n",
       "    }\n",
       "\n",
       "    .dataframe tbody tr th {\n",
       "        vertical-align: top;\n",
       "    }\n",
       "\n",
       "    .dataframe thead th {\n",
       "        text-align: right;\n",
       "    }\n",
       "</style>\n",
       "<table border=\"1\" class=\"dataframe\">\n",
       "  <thead>\n",
       "    <tr style=\"text-align: right;\">\n",
       "      <th></th>\n",
       "      <th>BusinessEntityID</th>\n",
       "      <th>PersonType</th>\n",
       "      <th>NameStyle</th>\n",
       "      <th>Title</th>\n",
       "      <th>FirstName</th>\n",
       "      <th>MiddleName</th>\n",
       "      <th>LastName</th>\n",
       "      <th>Suffix</th>\n",
       "      <th>EmailPromotion</th>\n",
       "      <th>AdditionalContactInfo</th>\n",
       "      <th>Demographics</th>\n",
       "      <th>rowguid</th>\n",
       "      <th>ModifiedDate</th>\n",
       "    </tr>\n",
       "  </thead>\n",
       "  <tbody>\n",
       "    <tr>\n",
       "      <th>0</th>\n",
       "      <td>1</td>\n",
       "      <td>EM</td>\n",
       "      <td>False</td>\n",
       "      <td>NaN</td>\n",
       "      <td>Ken</td>\n",
       "      <td>J</td>\n",
       "      <td>Sánchez</td>\n",
       "      <td>NaN</td>\n",
       "      <td>0</td>\n",
       "      <td>NaN</td>\n",
       "      <td>&lt;IndividualSurvey xmlns=\"http://schemas.micros...</td>\n",
       "      <td>92C4279F-1207-48A3-8448-4636514EB7E2</td>\n",
       "      <td>2009-01-07 00:00:00.000</td>\n",
       "    </tr>\n",
       "    <tr>\n",
       "      <th>1</th>\n",
       "      <td>2</td>\n",
       "      <td>EM</td>\n",
       "      <td>False</td>\n",
       "      <td>NaN</td>\n",
       "      <td>Terri</td>\n",
       "      <td>Lee</td>\n",
       "      <td>Duffy</td>\n",
       "      <td>NaN</td>\n",
       "      <td>1</td>\n",
       "      <td>NaN</td>\n",
       "      <td>&lt;IndividualSurvey xmlns=\"http://schemas.micros...</td>\n",
       "      <td>D8763459-8AA8-47CC-AFF7-C9079AF79033</td>\n",
       "      <td>2008-01-24 00:00:00.000</td>\n",
       "    </tr>\n",
       "    <tr>\n",
       "      <th>2</th>\n",
       "      <td>3</td>\n",
       "      <td>EM</td>\n",
       "      <td>False</td>\n",
       "      <td>NaN</td>\n",
       "      <td>Roberto</td>\n",
       "      <td>NaN</td>\n",
       "      <td>Tamburello</td>\n",
       "      <td>NaN</td>\n",
       "      <td>0</td>\n",
       "      <td>NaN</td>\n",
       "      <td>&lt;IndividualSurvey xmlns=\"http://schemas.micros...</td>\n",
       "      <td>E1A2555E-0828-434B-A33B-6F38136A37DE</td>\n",
       "      <td>2007-11-04 00:00:00.000</td>\n",
       "    </tr>\n",
       "    <tr>\n",
       "      <th>3</th>\n",
       "      <td>4</td>\n",
       "      <td>EM</td>\n",
       "      <td>False</td>\n",
       "      <td>NaN</td>\n",
       "      <td>Rob</td>\n",
       "      <td>NaN</td>\n",
       "      <td>Walters</td>\n",
       "      <td>NaN</td>\n",
       "      <td>0</td>\n",
       "      <td>NaN</td>\n",
       "      <td>&lt;IndividualSurvey xmlns=\"http://schemas.micros...</td>\n",
       "      <td>F2D7CE06-38B3-4357-805B-F4B6B71C01FF</td>\n",
       "      <td>2007-11-28 00:00:00.000</td>\n",
       "    </tr>\n",
       "    <tr>\n",
       "      <th>4</th>\n",
       "      <td>5</td>\n",
       "      <td>EM</td>\n",
       "      <td>False</td>\n",
       "      <td>Ms.</td>\n",
       "      <td>Gail</td>\n",
       "      <td>A</td>\n",
       "      <td>Erickson</td>\n",
       "      <td>NaN</td>\n",
       "      <td>0</td>\n",
       "      <td>NaN</td>\n",
       "      <td>&lt;IndividualSurvey xmlns=\"http://schemas.micros...</td>\n",
       "      <td>F3A3F6B4-AE3B-430C-A754-9F2231BA6FEF</td>\n",
       "      <td>2007-12-30 00:00:00.000</td>\n",
       "    </tr>\n",
       "  </tbody>\n",
       "</table>\n",
       "</div>"
      ],
      "text/plain": [
       "   BusinessEntityID PersonType  NameStyle Title FirstName MiddleName  \\\n",
       "0                 1         EM      False   NaN       Ken          J   \n",
       "1                 2         EM      False   NaN     Terri        Lee   \n",
       "2                 3         EM      False   NaN   Roberto        NaN   \n",
       "3                 4         EM      False   NaN       Rob        NaN   \n",
       "4                 5         EM      False   Ms.      Gail          A   \n",
       "\n",
       "     LastName Suffix  EmailPromotion AdditionalContactInfo  \\\n",
       "0     Sánchez    NaN               0                   NaN   \n",
       "1       Duffy    NaN               1                   NaN   \n",
       "2  Tamburello    NaN               0                   NaN   \n",
       "3     Walters    NaN               0                   NaN   \n",
       "4    Erickson    NaN               0                   NaN   \n",
       "\n",
       "                                        Demographics  \\\n",
       "0  <IndividualSurvey xmlns=\"http://schemas.micros...   \n",
       "1  <IndividualSurvey xmlns=\"http://schemas.micros...   \n",
       "2  <IndividualSurvey xmlns=\"http://schemas.micros...   \n",
       "3  <IndividualSurvey xmlns=\"http://schemas.micros...   \n",
       "4  <IndividualSurvey xmlns=\"http://schemas.micros...   \n",
       "\n",
       "                                rowguid             ModifiedDate  \n",
       "0  92C4279F-1207-48A3-8448-4636514EB7E2  2009-01-07 00:00:00.000  \n",
       "1  D8763459-8AA8-47CC-AFF7-C9079AF79033  2008-01-24 00:00:00.000  \n",
       "2  E1A2555E-0828-434B-A33B-6F38136A37DE  2007-11-04 00:00:00.000  \n",
       "3  F2D7CE06-38B3-4357-805B-F4B6B71C01FF  2007-11-28 00:00:00.000  \n",
       "4  F3A3F6B4-AE3B-430C-A754-9F2231BA6FEF  2007-12-30 00:00:00.000  "
      ]
     },
     "execution_count": 10,
     "metadata": {},
     "output_type": "execute_result"
    }
   ],
   "source": [
    "person.head(5)"
   ]
  },
  {
   "cell_type": "code",
   "execution_count": 14,
   "metadata": {},
   "outputs": [
    {
     "data": {
      "text/plain": [
       "BusinessEntityID          int64\n",
       "PersonType               object\n",
       "NameStyle                  bool\n",
       "Title                    object\n",
       "FirstName                object\n",
       "MiddleName               object\n",
       "LastName                 object\n",
       "Suffix                   object\n",
       "EmailPromotion            int64\n",
       "AdditionalContactInfo    object\n",
       "Demographics             object\n",
       "rowguid                  object\n",
       "ModifiedDate             object\n",
       "dtype: object"
      ]
     },
     "execution_count": 14,
     "metadata": {},
     "output_type": "execute_result"
    }
   ],
   "source": [
    "person.dtypes"
   ]
  },
  {
   "cell_type": "code",
   "execution_count": 13,
   "metadata": {},
   "outputs": [
    {
     "data": {
      "text/plain": [
       "(19972, 13)"
      ]
     },
     "execution_count": 13,
     "metadata": {},
     "output_type": "execute_result"
    }
   ],
   "source": [
    "person.shape"
   ]
  },
  {
   "cell_type": "markdown",
   "metadata": {},
   "source": [
    "### Sales Order Detail"
   ]
  },
  {
   "cell_type": "code",
   "execution_count": 12,
   "metadata": {},
   "outputs": [
    {
     "data": {
      "text/html": [
       "<div>\n",
       "<style scoped>\n",
       "    .dataframe tbody tr th:only-of-type {\n",
       "        vertical-align: middle;\n",
       "    }\n",
       "\n",
       "    .dataframe tbody tr th {\n",
       "        vertical-align: top;\n",
       "    }\n",
       "\n",
       "    .dataframe thead th {\n",
       "        text-align: right;\n",
       "    }\n",
       "</style>\n",
       "<table border=\"1\" class=\"dataframe\">\n",
       "  <thead>\n",
       "    <tr style=\"text-align: right;\">\n",
       "      <th></th>\n",
       "      <th>SalesOrderID</th>\n",
       "      <th>SalesOrderDetailID</th>\n",
       "      <th>CarrierTrackingNumber</th>\n",
       "      <th>OrderQty</th>\n",
       "      <th>ProductID</th>\n",
       "      <th>SpecialOfferID</th>\n",
       "      <th>UnitPrice</th>\n",
       "      <th>UnitPriceDiscount</th>\n",
       "      <th>LineTotal</th>\n",
       "      <th>rowguid</th>\n",
       "      <th>ModifiedDate</th>\n",
       "    </tr>\n",
       "  </thead>\n",
       "  <tbody>\n",
       "    <tr>\n",
       "      <th>0</th>\n",
       "      <td>43659</td>\n",
       "      <td>1</td>\n",
       "      <td>4911-403C-98</td>\n",
       "      <td>1</td>\n",
       "      <td>776</td>\n",
       "      <td>1</td>\n",
       "      <td>2024.994</td>\n",
       "      <td>0.0</td>\n",
       "      <td>2024.994</td>\n",
       "      <td>B207C96D-D9E6-402B-8470-2CC176C42283</td>\n",
       "      <td>2011-05-31</td>\n",
       "    </tr>\n",
       "    <tr>\n",
       "      <th>1</th>\n",
       "      <td>43659</td>\n",
       "      <td>2</td>\n",
       "      <td>4911-403C-98</td>\n",
       "      <td>3</td>\n",
       "      <td>777</td>\n",
       "      <td>1</td>\n",
       "      <td>2024.994</td>\n",
       "      <td>0.0</td>\n",
       "      <td>6074.982</td>\n",
       "      <td>7ABB600D-1E77-41BE-9FE5-B9142CFC08FA</td>\n",
       "      <td>2011-05-31</td>\n",
       "    </tr>\n",
       "    <tr>\n",
       "      <th>2</th>\n",
       "      <td>43659</td>\n",
       "      <td>3</td>\n",
       "      <td>4911-403C-98</td>\n",
       "      <td>1</td>\n",
       "      <td>778</td>\n",
       "      <td>1</td>\n",
       "      <td>2024.994</td>\n",
       "      <td>0.0</td>\n",
       "      <td>2024.994</td>\n",
       "      <td>475CF8C6-49F6-486E-B0AD-AFC6A50CDD2F</td>\n",
       "      <td>2011-05-31</td>\n",
       "    </tr>\n",
       "    <tr>\n",
       "      <th>3</th>\n",
       "      <td>43659</td>\n",
       "      <td>4</td>\n",
       "      <td>4911-403C-98</td>\n",
       "      <td>1</td>\n",
       "      <td>771</td>\n",
       "      <td>1</td>\n",
       "      <td>2039.994</td>\n",
       "      <td>0.0</td>\n",
       "      <td>2039.994</td>\n",
       "      <td>04C4DE91-5815-45D6-8670-F462719FBCE3</td>\n",
       "      <td>2011-05-31</td>\n",
       "    </tr>\n",
       "    <tr>\n",
       "      <th>4</th>\n",
       "      <td>43659</td>\n",
       "      <td>5</td>\n",
       "      <td>4911-403C-98</td>\n",
       "      <td>1</td>\n",
       "      <td>772</td>\n",
       "      <td>1</td>\n",
       "      <td>2039.994</td>\n",
       "      <td>0.0</td>\n",
       "      <td>2039.994</td>\n",
       "      <td>5A74C7D2-E641-438E-A7AC-37BF23280301</td>\n",
       "      <td>2011-05-31</td>\n",
       "    </tr>\n",
       "  </tbody>\n",
       "</table>\n",
       "</div>"
      ],
      "text/plain": [
       "   SalesOrderID  SalesOrderDetailID CarrierTrackingNumber  OrderQty  \\\n",
       "0         43659                   1          4911-403C-98         1   \n",
       "1         43659                   2          4911-403C-98         3   \n",
       "2         43659                   3          4911-403C-98         1   \n",
       "3         43659                   4          4911-403C-98         1   \n",
       "4         43659                   5          4911-403C-98         1   \n",
       "\n",
       "   ProductID  SpecialOfferID  UnitPrice  UnitPriceDiscount  LineTotal  \\\n",
       "0        776               1   2024.994                0.0   2024.994   \n",
       "1        777               1   2024.994                0.0   6074.982   \n",
       "2        778               1   2024.994                0.0   2024.994   \n",
       "3        771               1   2039.994                0.0   2039.994   \n",
       "4        772               1   2039.994                0.0   2039.994   \n",
       "\n",
       "                                rowguid ModifiedDate  \n",
       "0  B207C96D-D9E6-402B-8470-2CC176C42283   2011-05-31  \n",
       "1  7ABB600D-1E77-41BE-9FE5-B9142CFC08FA   2011-05-31  \n",
       "2  475CF8C6-49F6-486E-B0AD-AFC6A50CDD2F   2011-05-31  \n",
       "3  04C4DE91-5815-45D6-8670-F462719FBCE3   2011-05-31  \n",
       "4  5A74C7D2-E641-438E-A7AC-37BF23280301   2011-05-31  "
      ]
     },
     "execution_count": 12,
     "metadata": {},
     "output_type": "execute_result"
    }
   ],
   "source": [
    "SO_detail.head()"
   ]
  },
  {
   "cell_type": "code",
   "execution_count": 74,
   "metadata": {},
   "outputs": [
    {
     "data": {
      "text/plain": [
       "True"
      ]
     },
     "execution_count": 74,
     "metadata": {},
     "output_type": "execute_result"
    }
   ],
   "source": [
    "# SO_detail['ProductID'].value_counts().reset_index().sort_values(['index'])\n",
    "# SO_detail[SO_detail['UnitPriceDiscount'] != 0][['OrderQty', 'UnitPrice', 'UnitPriceDiscount', 'LineTotal']].head() # probably in percentages\n",
    "len(SO_detail['rowguid']) == len(np.unique(SO_detail['rowguid']))"
   ]
  },
  {
   "cell_type": "code",
   "execution_count": 16,
   "metadata": {},
   "outputs": [
    {
     "data": {
      "text/plain": [
       "SalesOrderID               int64\n",
       "SalesOrderDetailID         int64\n",
       "CarrierTrackingNumber     object\n",
       "OrderQty                   int64\n",
       "ProductID                  int64\n",
       "SpecialOfferID             int64\n",
       "UnitPrice                float64\n",
       "UnitPriceDiscount        float64\n",
       "LineTotal                float64\n",
       "rowguid                   object\n",
       "ModifiedDate              object\n",
       "dtype: object"
      ]
     },
     "execution_count": 16,
     "metadata": {},
     "output_type": "execute_result"
    }
   ],
   "source": [
    "SO_detail.dtypes"
   ]
  },
  {
   "cell_type": "code",
   "execution_count": 17,
   "metadata": {},
   "outputs": [
    {
     "data": {
      "text/plain": [
       "(121317, 11)"
      ]
     },
     "execution_count": 17,
     "metadata": {},
     "output_type": "execute_result"
    }
   ],
   "source": [
    "SO_detail.shape"
   ]
  },
  {
   "cell_type": "markdown",
   "metadata": {},
   "source": [
    "### Sales_SalesOrderHeader"
   ]
  },
  {
   "cell_type": "code",
   "execution_count": 19,
   "metadata": {},
   "outputs": [
    {
     "data": {
      "text/html": [
       "<div>\n",
       "<style scoped>\n",
       "    .dataframe tbody tr th:only-of-type {\n",
       "        vertical-align: middle;\n",
       "    }\n",
       "\n",
       "    .dataframe tbody tr th {\n",
       "        vertical-align: top;\n",
       "    }\n",
       "\n",
       "    .dataframe thead th {\n",
       "        text-align: right;\n",
       "    }\n",
       "</style>\n",
       "<table border=\"1\" class=\"dataframe\">\n",
       "  <thead>\n",
       "    <tr style=\"text-align: right;\">\n",
       "      <th></th>\n",
       "      <th>SalesOrderID</th>\n",
       "      <th>RevisionNumber</th>\n",
       "      <th>OrderDate</th>\n",
       "      <th>DueDate</th>\n",
       "      <th>ShipDate</th>\n",
       "      <th>Status</th>\n",
       "      <th>OnlineOrderFlag</th>\n",
       "      <th>SalesOrderNumber</th>\n",
       "      <th>PurchaseOrderNumber</th>\n",
       "      <th>AccountNumber</th>\n",
       "      <th>...</th>\n",
       "      <th>CreditCardID</th>\n",
       "      <th>CreditCardApprovalCode</th>\n",
       "      <th>CurrencyRateID</th>\n",
       "      <th>SubTotal</th>\n",
       "      <th>TaxAmt</th>\n",
       "      <th>Freight</th>\n",
       "      <th>TotalDue</th>\n",
       "      <th>Comment</th>\n",
       "      <th>rowguid</th>\n",
       "      <th>ModifiedDate</th>\n",
       "    </tr>\n",
       "  </thead>\n",
       "  <tbody>\n",
       "    <tr>\n",
       "      <th>0</th>\n",
       "      <td>43659</td>\n",
       "      <td>8</td>\n",
       "      <td>2011-05-31</td>\n",
       "      <td>2011-06-12</td>\n",
       "      <td>2011-06-07</td>\n",
       "      <td>5</td>\n",
       "      <td>False</td>\n",
       "      <td>SO43659</td>\n",
       "      <td>PO522145787</td>\n",
       "      <td>10-4020-000676</td>\n",
       "      <td>...</td>\n",
       "      <td>16281.0</td>\n",
       "      <td>105041Vi84182</td>\n",
       "      <td>NaN</td>\n",
       "      <td>20565.6206</td>\n",
       "      <td>1971.5149</td>\n",
       "      <td>616.0984</td>\n",
       "      <td>23153.2339</td>\n",
       "      <td>NaN</td>\n",
       "      <td>79B65321-39CA-4115-9CBA-8FE0903E12E6</td>\n",
       "      <td>2011-06-07</td>\n",
       "    </tr>\n",
       "    <tr>\n",
       "      <th>1</th>\n",
       "      <td>43660</td>\n",
       "      <td>8</td>\n",
       "      <td>2011-05-31</td>\n",
       "      <td>2011-06-12</td>\n",
       "      <td>2011-06-07</td>\n",
       "      <td>5</td>\n",
       "      <td>False</td>\n",
       "      <td>SO43660</td>\n",
       "      <td>PO18850127500</td>\n",
       "      <td>10-4020-000117</td>\n",
       "      <td>...</td>\n",
       "      <td>5618.0</td>\n",
       "      <td>115213Vi29411</td>\n",
       "      <td>NaN</td>\n",
       "      <td>1294.2529</td>\n",
       "      <td>124.2483</td>\n",
       "      <td>38.8276</td>\n",
       "      <td>1457.3288</td>\n",
       "      <td>NaN</td>\n",
       "      <td>738DC42D-D03B-48A1-9822-F95A67EA7389</td>\n",
       "      <td>2011-06-07</td>\n",
       "    </tr>\n",
       "    <tr>\n",
       "      <th>2</th>\n",
       "      <td>43661</td>\n",
       "      <td>8</td>\n",
       "      <td>2011-05-31</td>\n",
       "      <td>2011-06-12</td>\n",
       "      <td>2011-06-07</td>\n",
       "      <td>5</td>\n",
       "      <td>False</td>\n",
       "      <td>SO43661</td>\n",
       "      <td>PO18473189620</td>\n",
       "      <td>10-4020-000442</td>\n",
       "      <td>...</td>\n",
       "      <td>1346.0</td>\n",
       "      <td>85274Vi6854</td>\n",
       "      <td>4.0</td>\n",
       "      <td>32726.4786</td>\n",
       "      <td>3153.7696</td>\n",
       "      <td>985.5530</td>\n",
       "      <td>36865.8012</td>\n",
       "      <td>NaN</td>\n",
       "      <td>D91B9131-18A4-4A11-BC3A-90B6F53E9D74</td>\n",
       "      <td>2011-06-07</td>\n",
       "    </tr>\n",
       "    <tr>\n",
       "      <th>3</th>\n",
       "      <td>43662</td>\n",
       "      <td>8</td>\n",
       "      <td>2011-05-31</td>\n",
       "      <td>2011-06-12</td>\n",
       "      <td>2011-06-07</td>\n",
       "      <td>5</td>\n",
       "      <td>False</td>\n",
       "      <td>SO43662</td>\n",
       "      <td>PO18444174044</td>\n",
       "      <td>10-4020-000227</td>\n",
       "      <td>...</td>\n",
       "      <td>10456.0</td>\n",
       "      <td>125295Vi53935</td>\n",
       "      <td>4.0</td>\n",
       "      <td>28832.5289</td>\n",
       "      <td>2775.1646</td>\n",
       "      <td>867.2389</td>\n",
       "      <td>32474.9324</td>\n",
       "      <td>NaN</td>\n",
       "      <td>4A1ECFC0-CC3A-4740-B028-1C50BB48711C</td>\n",
       "      <td>2011-06-07</td>\n",
       "    </tr>\n",
       "    <tr>\n",
       "      <th>4</th>\n",
       "      <td>43663</td>\n",
       "      <td>8</td>\n",
       "      <td>2011-05-31</td>\n",
       "      <td>2011-06-12</td>\n",
       "      <td>2011-06-07</td>\n",
       "      <td>5</td>\n",
       "      <td>False</td>\n",
       "      <td>SO43663</td>\n",
       "      <td>PO18009186470</td>\n",
       "      <td>10-4020-000510</td>\n",
       "      <td>...</td>\n",
       "      <td>4322.0</td>\n",
       "      <td>45303Vi22691</td>\n",
       "      <td>NaN</td>\n",
       "      <td>419.4589</td>\n",
       "      <td>40.2681</td>\n",
       "      <td>12.5838</td>\n",
       "      <td>472.3108</td>\n",
       "      <td>NaN</td>\n",
       "      <td>9B1E7A40-6AE0-4AD3-811C-A64951857C4B</td>\n",
       "      <td>2011-06-07</td>\n",
       "    </tr>\n",
       "  </tbody>\n",
       "</table>\n",
       "<p>5 rows × 26 columns</p>\n",
       "</div>"
      ],
      "text/plain": [
       "   SalesOrderID  RevisionNumber   OrderDate     DueDate    ShipDate  Status  \\\n",
       "0         43659               8  2011-05-31  2011-06-12  2011-06-07       5   \n",
       "1         43660               8  2011-05-31  2011-06-12  2011-06-07       5   \n",
       "2         43661               8  2011-05-31  2011-06-12  2011-06-07       5   \n",
       "3         43662               8  2011-05-31  2011-06-12  2011-06-07       5   \n",
       "4         43663               8  2011-05-31  2011-06-12  2011-06-07       5   \n",
       "\n",
       "   OnlineOrderFlag SalesOrderNumber PurchaseOrderNumber   AccountNumber  ...  \\\n",
       "0            False          SO43659         PO522145787  10-4020-000676  ...   \n",
       "1            False          SO43660       PO18850127500  10-4020-000117  ...   \n",
       "2            False          SO43661       PO18473189620  10-4020-000442  ...   \n",
       "3            False          SO43662       PO18444174044  10-4020-000227  ...   \n",
       "4            False          SO43663       PO18009186470  10-4020-000510  ...   \n",
       "\n",
       "   CreditCardID  CreditCardApprovalCode  CurrencyRateID    SubTotal  \\\n",
       "0       16281.0           105041Vi84182             NaN  20565.6206   \n",
       "1        5618.0           115213Vi29411             NaN   1294.2529   \n",
       "2        1346.0             85274Vi6854             4.0  32726.4786   \n",
       "3       10456.0           125295Vi53935             4.0  28832.5289   \n",
       "4        4322.0            45303Vi22691             NaN    419.4589   \n",
       "\n",
       "      TaxAmt   Freight    TotalDue Comment  \\\n",
       "0  1971.5149  616.0984  23153.2339     NaN   \n",
       "1   124.2483   38.8276   1457.3288     NaN   \n",
       "2  3153.7696  985.5530  36865.8012     NaN   \n",
       "3  2775.1646  867.2389  32474.9324     NaN   \n",
       "4    40.2681   12.5838    472.3108     NaN   \n",
       "\n",
       "                                rowguid  ModifiedDate  \n",
       "0  79B65321-39CA-4115-9CBA-8FE0903E12E6    2011-06-07  \n",
       "1  738DC42D-D03B-48A1-9822-F95A67EA7389    2011-06-07  \n",
       "2  D91B9131-18A4-4A11-BC3A-90B6F53E9D74    2011-06-07  \n",
       "3  4A1ECFC0-CC3A-4740-B028-1C50BB48711C    2011-06-07  \n",
       "4  9B1E7A40-6AE0-4AD3-811C-A64951857C4B    2011-06-07  \n",
       "\n",
       "[5 rows x 26 columns]"
      ]
     },
     "execution_count": 19,
     "metadata": {},
     "output_type": "execute_result"
    }
   ],
   "source": [
    "SO_header.head()"
   ]
  },
  {
   "cell_type": "code",
   "execution_count": 106,
   "metadata": {},
   "outputs": [],
   "source": [
    "# np.sum(SO_header['CreditCardID'].isna())"
   ]
  },
  {
   "cell_type": "code",
   "execution_count": 113,
   "metadata": {},
   "outputs": [
    {
     "data": {
      "text/plain": [
       "9     6843\n",
       "4     6224\n",
       "1     4594\n",
       "6     4067\n",
       "10    3219\n",
       "7     2672\n",
       "8     2623\n",
       "5      486\n",
       "3      385\n",
       "2      352\n",
       "Name: TerritoryID, dtype: int64"
      ]
     },
     "execution_count": 113,
     "metadata": {},
     "output_type": "execute_result"
    }
   ],
   "source": [
    "SO_header['TerritoryID'].value_counts()"
   ]
  },
  {
   "cell_type": "code",
   "execution_count": 84,
   "metadata": {},
   "outputs": [
    {
     "data": {
      "text/plain": [
       "SalesOrderID                int64\n",
       "RevisionNumber              int64\n",
       "OrderDate                  object\n",
       "DueDate                    object\n",
       "ShipDate                   object\n",
       "Status                      int64\n",
       "OnlineOrderFlag              bool\n",
       "SalesOrderNumber           object\n",
       "PurchaseOrderNumber        object\n",
       "AccountNumber              object\n",
       "CustomerID                  int64\n",
       "SalesPersonID             float64\n",
       "TerritoryID                 int64\n",
       "BillToAddressID             int64\n",
       "ShipToAddressID             int64\n",
       "ShipMethodID                int64\n",
       "CreditCardID              float64\n",
       "CreditCardApprovalCode     object\n",
       "CurrencyRateID            float64\n",
       "SubTotal                  float64\n",
       "TaxAmt                    float64\n",
       "Freight                   float64\n",
       "TotalDue                  float64\n",
       "Comment                   float64\n",
       "rowguid                    object\n",
       "ModifiedDate               object\n",
       "dtype: object"
      ]
     },
     "execution_count": 84,
     "metadata": {},
     "output_type": "execute_result"
    }
   ],
   "source": [
    "SO_header.dtypes"
   ]
  },
  {
   "cell_type": "code",
   "execution_count": 23,
   "metadata": {},
   "outputs": [
    {
     "data": {
      "text/plain": [
       "(31465, 26)"
      ]
     },
     "execution_count": 23,
     "metadata": {},
     "output_type": "execute_result"
    }
   ],
   "source": [
    "SO_header.shape"
   ]
  },
  {
   "cell_type": "code",
   "execution_count": 76,
   "metadata": {},
   "outputs": [
    {
     "data": {
      "text/html": [
       "<div>\n",
       "<style scoped>\n",
       "    .dataframe tbody tr th:only-of-type {\n",
       "        vertical-align: middle;\n",
       "    }\n",
       "\n",
       "    .dataframe tbody tr th {\n",
       "        vertical-align: top;\n",
       "    }\n",
       "\n",
       "    .dataframe thead th {\n",
       "        text-align: right;\n",
       "    }\n",
       "</style>\n",
       "<table border=\"1\" class=\"dataframe\">\n",
       "  <thead>\n",
       "    <tr style=\"text-align: right;\">\n",
       "      <th></th>\n",
       "      <th>OrderDate</th>\n",
       "      <th>freq</th>\n",
       "    </tr>\n",
       "  </thead>\n",
       "  <tbody>\n",
       "    <tr>\n",
       "      <th>345</th>\n",
       "      <td>2011-05-31</td>\n",
       "      <td>43</td>\n",
       "    </tr>\n",
       "    <tr>\n",
       "      <th>1016</th>\n",
       "      <td>2011-06-01</td>\n",
       "      <td>4</td>\n",
       "    </tr>\n",
       "    <tr>\n",
       "      <th>956</th>\n",
       "      <td>2011-06-02</td>\n",
       "      <td>5</td>\n",
       "    </tr>\n",
       "    <tr>\n",
       "      <th>1104</th>\n",
       "      <td>2011-06-03</td>\n",
       "      <td>2</td>\n",
       "    </tr>\n",
       "    <tr>\n",
       "      <th>927</th>\n",
       "      <td>2011-06-04</td>\n",
       "      <td>5</td>\n",
       "    </tr>\n",
       "  </tbody>\n",
       "</table>\n",
       "</div>"
      ],
      "text/plain": [
       "       OrderDate  freq\n",
       "345   2011-05-31    43\n",
       "1016  2011-06-01     4\n",
       "956   2011-06-02     5\n",
       "1104  2011-06-03     2\n",
       "927   2011-06-04     5"
      ]
     },
     "execution_count": 76,
     "metadata": {},
     "output_type": "execute_result"
    }
   ],
   "source": [
    "orderDate_freq = SO_header['OrderDate'].value_counts().reset_index()\n",
    "orderDate_freq.columns = ['OrderDate', 'freq']\n",
    "orderDate_freq = orderDate_freq.sort_values(by = ['OrderDate'])\n",
    "orderDate_freq.head()"
   ]
  },
  {
   "cell_type": "code",
   "execution_count": 78,
   "metadata": {},
   "outputs": [
    {
     "data": {
      "image/png": "[encoded data removed]",
      "text/plain": [
       "<Figure size 1080x288 with 1 Axes>"
      ]
     },
     "metadata": {
      "needs_background": "light"
     },
     "output_type": "display_data"
    }
   ],
   "source": [
    "plt.figure(figsize = (15,4))\n",
    "plt.plot(orderDate_freq.OrderDate, orderDate_freq.freq)\n",
    "plt.show()"
   ]
  },
  {
   "cell_type": "code",
   "execution_count": 41,
   "metadata": {},
   "outputs": [],
   "source": [
    "SO_header['OrderMonth'] = SO_header['OrderDate'].apply(lambda x: x[0:7])"
   ]
  },
  {
   "cell_type": "code",
   "execution_count": 43,
   "metadata": {},
   "outputs": [
    {
     "data": {
      "image/png": "[encoded data removed]",
      "text/plain": [
       "<Figure size 432x288 with 1 Axes>"
      ]
     },
     "metadata": {
      "needs_background": "light"
     },
     "output_type": "display_data"
    }
   ],
   "source": [
    "orderDate_freq = SO_header['OrderMonth'].value_counts().reset_index()\n",
    "orderDate_freq.columns = ['OrderMonth', 'freq']\n",
    "orderDate_freq = orderDate_freq.sort_values(by = ['OrderMonth'])\n",
    "orderDate_freq.head()\n",
    "plt.plot(orderDate_freq['OrderMonth'], orderDate_freq['freq'])\n",
    "plt.show()"
   ]
  },
  {
   "cell_type": "code",
   "execution_count": 47,
   "metadata": {},
   "outputs": [
    {
     "data": {
      "image/png": "[encoded data removed]",
      "text/plain": [
       "<Figure size 432x288 with 1 Axes>"
      ]
     },
     "metadata": {
      "needs_background": "light"
     },
     "output_type": "display_data"
    }
   ],
   "source": [
    "# plot without last month \n",
    "plt.plot(orderDate_freq['OrderMonth'][0:-1], orderDate_freq['freq'][0:-1])\n",
    "plt.show()"
   ]
  },
  {
   "cell_type": "markdown",
   "metadata": {},
   "source": [
    "### Sales Order Header Sales Reason"
   ]
  },
  {
   "cell_type": "code",
   "execution_count": 50,
   "metadata": {},
   "outputs": [
    {
     "data": {
      "text/html": [
       "<div>\n",
       "<style scoped>\n",
       "    .dataframe tbody tr th:only-of-type {\n",
       "        vertical-align: middle;\n",
       "    }\n",
       "\n",
       "    .dataframe tbody tr th {\n",
       "        vertical-align: top;\n",
       "    }\n",
       "\n",
       "    .dataframe thead th {\n",
       "        text-align: right;\n",
       "    }\n",
       "</style>\n",
       "<table border=\"1\" class=\"dataframe\">\n",
       "  <thead>\n",
       "    <tr style=\"text-align: right;\">\n",
       "      <th></th>\n",
       "      <th>SalesOrderID</th>\n",
       "      <th>SalesReasonID</th>\n",
       "      <th>ModifiedDate</th>\n",
       "    </tr>\n",
       "  </thead>\n",
       "  <tbody>\n",
       "    <tr>\n",
       "      <th>0</th>\n",
       "      <td>43697</td>\n",
       "      <td>5</td>\n",
       "      <td>2011-05-31</td>\n",
       "    </tr>\n",
       "    <tr>\n",
       "      <th>1</th>\n",
       "      <td>43697</td>\n",
       "      <td>9</td>\n",
       "      <td>2011-05-31</td>\n",
       "    </tr>\n",
       "    <tr>\n",
       "      <th>2</th>\n",
       "      <td>43702</td>\n",
       "      <td>5</td>\n",
       "      <td>2011-06-01</td>\n",
       "    </tr>\n",
       "    <tr>\n",
       "      <th>3</th>\n",
       "      <td>43702</td>\n",
       "      <td>9</td>\n",
       "      <td>2011-06-01</td>\n",
       "    </tr>\n",
       "    <tr>\n",
       "      <th>4</th>\n",
       "      <td>43703</td>\n",
       "      <td>5</td>\n",
       "      <td>2011-06-01</td>\n",
       "    </tr>\n",
       "  </tbody>\n",
       "</table>\n",
       "</div>"
      ],
      "text/plain": [
       "   SalesOrderID  SalesReasonID ModifiedDate\n",
       "0         43697              5   2011-05-31\n",
       "1         43697              9   2011-05-31\n",
       "2         43702              5   2011-06-01\n",
       "3         43702              9   2011-06-01\n",
       "4         43703              5   2011-06-01"
      ]
     },
     "execution_count": 50,
     "metadata": {},
     "output_type": "execute_result"
    }
   ],
   "source": [
    "SO_header_SalesReason.head()"
   ]
  },
  {
   "cell_type": "code",
   "execution_count": 115,
   "metadata": {},
   "outputs": [
    {
     "data": {
      "text/plain": [
       "1     17473\n",
       "2      3515\n",
       "5      1746\n",
       "9      1551\n",
       "10     1395\n",
       "6      1245\n",
       "4       722\n",
       "Name: SalesReasonID, dtype: int64"
      ]
     },
     "execution_count": 115,
     "metadata": {},
     "output_type": "execute_result"
    }
   ],
   "source": [
    "SO_header_SalesReason['SalesReasonID'].value_counts()"
   ]
  },
  {
   "cell_type": "code",
   "execution_count": null,
   "metadata": {},
   "outputs": [],
   "source": []
  }
 ],
 "metadata": {
  "kernelspec": {
   "display_name": "Python 3",
   "language": "python",
   "name": "python3"
  },
  "language_info": {
   "codemirror_mode": {
    "name": "ipython",
    "version": 3
   },
   "file_extension": ".py",
   "mimetype": "text/x-python",
   "name": "python",
   "nbconvert_exporter": "python",
   "pygments_lexer": "ipython3",
   "version": "3.7.3"
  }
 },
 "nbformat": 4,
 "nbformat_minor": 2
}
